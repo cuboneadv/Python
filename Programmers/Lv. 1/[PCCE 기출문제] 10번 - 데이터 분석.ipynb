{
 "cells": [
  {
   "cell_type": "code",
   "execution_count": null,
   "metadata": {},
   "outputs": [],
   "source": [
    "def solution(data, ext, val_ext, sort_by):\n",
    "    # 각 컬럼에 대한 인덱스 매핑\n",
    "    col_idx = {\n",
    "        \"code\": 0,\n",
    "        \"date\": 1,\n",
    "        \"maximum\": 2,\n",
    "        \"remain\": 3\n",
    "    }\n",
    "    \n",
    "    # ext를 기준으로 val_ext보다 작은 값만 필터링\n",
    "    filtered_data = [item for item in data if item[col_idx[ext]] < val_ext]\n",
    "    \n",
    "    # sort_by를 기준으로 오름차순 정렬\n",
    "    sorted_data = sorted(filtered_data, key=lambda x: x[col_idx[sort_by]])\n",
    "    \n",
    "    return sorted_data"
   ]
  }
 ],
 "metadata": {
  "language_info": {
   "name": "python"
  }
 },
 "nbformat": 4,
 "nbformat_minor": 2
}
