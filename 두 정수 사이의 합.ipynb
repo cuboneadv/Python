{
  "nbformat": 4,
  "nbformat_minor": 0,
  "metadata": {
    "colab": {
      "provenance": []
    },
    "kernelspec": {
      "name": "python3",
      "display_name": "Python 3"
    },
    "language_info": {
      "name": "python"
    }
  },
  "cells": [
    {
      "cell_type": "code",
      "execution_count": 4,
      "metadata": {
        "colab": {
          "base_uri": "https://localhost:8080/"
        },
        "id": "SljpMRZFQuli",
        "outputId": "2f90bdfa-61c5-4d90-d418-86da41692f23"
      },
      "outputs": [
        {
          "output_type": "stream",
          "name": "stdout",
          "text": [
            "12\n",
            "3\n",
            "12\n"
          ]
        }
      ],
      "source": [
        "# if, for을 이용한 풀이\n",
        "# def solution(a, b):\n",
        "#     if a==b:\n",
        "#         answer = a\n",
        "#     elif a<b:\n",
        "#         answer = 0\n",
        "#         for i in range(a, b+1):\n",
        "#             answer += i\n",
        "#     else:\n",
        "#         answer = 0\n",
        "#         for i in range(b, a+1):\n",
        "#             answer += i\n",
        "#     return answer\n",
        "\n",
        "# sum을 이용한 풀이\n",
        "# min, max 함수의 경우, 두 값이 동일하다면 동일한 값 반환\n",
        "def solution(a, b):\n",
        "    return (sum(range(min(a, b), max(a, b) + 1)))\n",
        "\n",
        "print(solution(3, 5))\n",
        "print(solution(3, 3))\n",
        "print(solution(5, 3))"
      ]
    }
  ]
}