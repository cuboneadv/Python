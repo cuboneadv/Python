{
  "nbformat": 4,
  "nbformat_minor": 0,
  "metadata": {
    "colab": {
      "provenance": [],
      "authorship_tag": "ABX9TyN1W7tb4AMwM4kO1zxUcgK8",
      "include_colab_link": true
    },
    "kernelspec": {
      "name": "python3",
      "display_name": "Python 3"
    },
    "language_info": {
      "name": "python"
    }
  },
  "cells": [
    {
      "cell_type": "markdown",
      "metadata": {
        "id": "view-in-github",
        "colab_type": "text"
      },
      "source": [
        "<a href=\"https://colab.research.google.com/github/cuboneadv/Python/blob/main/%EB%91%90_%EC%A0%95%EC%88%98_%EC%82%AC%EC%9D%B4%EC%9D%98_%ED%95%A9.ipynb\" target=\"_parent\"><img src=\"https://colab.research.google.com/assets/colab-badge.svg\" alt=\"Open In Colab\"/></a>"
      ]
    },
    {
      "cell_type": "code",
      "execution_count": null,
      "metadata": {
        "colab": {
          "base_uri": "https://localhost:8080/"
        },
        "id": "SljpMRZFQuli",
        "outputId": "2f90bdfa-61c5-4d90-d418-86da41692f23",
        "collapsed": true
      },
      "outputs": [
        {
          "output_type": "stream",
          "name": "stdout",
          "text": [
            "12\n",
            "3\n",
            "12\n"
          ]
        }
      ],
      "source": [
        "# if, for을 이용한 풀이\n",
        "# def solution(a, b):\n",
        "#     if a==b:\n",
        "#         answer = a\n",
        "#     elif a<b:\n",
        "#         answer = 0\n",
        "#         for i in range(a, b+1):\n",
        "#             answer += i\n",
        "#     else:\n",
        "#         answer = 0\n",
        "#         for i in range(b, a+1):\n",
        "#             answer += i\n",
        "#     return answer\n",
        "\n",
        "# sum을 이용한 풀이\n",
        "# min, max 함수의 경우, 두 값이 동일하다면 동일한 값 반환\n",
        "def solution(a, b):\n",
        "    return (sum(range(min(a, b), max(a, b) + 1)))\n",
        "\n",
        "# 결과 확인\n",
        "print(solution(3, 5))\n",
        "print(solution(3, 3))\n",
        "print(solution(5, 3))"
      ]
    }
  ]
}