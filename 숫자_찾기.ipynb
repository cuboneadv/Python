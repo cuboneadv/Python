{
  "nbformat": 4,
  "nbformat_minor": 0,
  "metadata": {
    "colab": {
      "provenance": [],
      "authorship_tag": "ABX9TyP6LiX9WAIno2gtjHThNIax",
      "include_colab_link": true
    },
    "kernelspec": {
      "name": "python3",
      "display_name": "Python 3"
    },
    "language_info": {
      "name": "python"
    }
  },
  "cells": [
    {
      "cell_type": "markdown",
      "metadata": {
        "id": "view-in-github",
        "colab_type": "text"
      },
      "source": [
        "<a href=\"https://colab.research.google.com/github/cuboneadv/Python/blob/main/%EC%88%AB%EC%9E%90_%EC%B0%BE%EA%B8%B0.ipynb\" target=\"_parent\"><img src=\"https://colab.research.google.com/assets/colab-badge.svg\" alt=\"Open In Colab\"/></a>"
      ]
    },
    {
      "cell_type": "code",
      "execution_count": 2,
      "metadata": {
        "id": "l7v_m4u61jQ7"
      },
      "outputs": [],
      "source": [
        "def solution(num, k):\n",
        "    str_num = str(num)\n",
        "\n",
        "    for i, digit in enumerate(str_num):\n",
        "        if digit == str(k):\n",
        "            return i + 1\n",
        "\n",
        "    return -1"
      ]
    }
  ]
}